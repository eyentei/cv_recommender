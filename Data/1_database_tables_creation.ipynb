{
 "cells": [
  {
   "cell_type": "code",
   "execution_count": 8,
   "metadata": {},
   "outputs": [],
   "source": [
    "import psycopg2 as pg\n",
    "with open('credentials.txt') as creds:\n",
    "    db,user,host,port = creds.read().splitlines()\n",
    "    \n",
    "     \n",
    "connection = pg.connect(dbname=db, user=user, host=host, port=port)\n",
    "cursor = connection.cursor()"
   ]
  },
  {
   "cell_type": "code",
   "execution_count": 6,
   "metadata": {},
   "outputs": [],
   "source": [
    "cursor.execute('create extension cube;')"
   ]
  },
  {
   "cell_type": "code",
   "execution_count": 6,
   "metadata": {},
   "outputs": [],
   "source": [
    "# группы возрастов\n",
    "cursor.execute(\"\"\"CREATE TABLE age_groups (\n",
    "                age_group_id serial PRIMARY KEY, \n",
    "                lower int,\n",
    "                upper int\n",
    "               );\"\"\")\n",
    "\n",
    "age_list = [(0,17),(18,24),(25,34),(35,44),(45,54),(55,64),(65,100)]\n",
    "for age_range in age_list:\n",
    "    cursor.execute(\"INSERT INTO age_groups(lower,upper) VALUES(%s,%s)\",age_range)\n",
    "\n",
    "\n",
    "# таблица пользователей\n",
    "cursor.execute(\"\"\"CREATE TABLE users (\n",
    "                user_id serial PRIMARY KEY, \n",
    "                vector cube,\n",
    "                gender bool,\n",
    "                age_group_id int references age_groups (age_group_id) );\"\"\")\n",
    "\n",
    "\n",
    "# таблица заказов \n",
    "cursor.execute(\"\"\"CREATE TABLE orders (\n",
    "                order_id serial PRIMARY KEY, \n",
    "                user_id int references users (user_id) ON DELETE CASCADE);\"\"\")\n",
    "\n",
    "# таблицa продуктов\n",
    "cursor.execute(\"CREATE TABLE items (item_id serial PRIMARY KEY, item_name varchar);\")\n",
    "\n",
    "# m2m-таблица, соотносящая заказы и продукты (состав заказов)\n",
    "cursor.execute(\"\"\"CREATE TABLE orders_items (\n",
    "                order_id int references orders (order_id) ON DELETE CASCADE, \n",
    "               item_id int references items (item_id));\"\"\")\n",
    "\n",
    "# таблица тегов\n",
    "cursor.execute(\"CREATE TABLE tags (tag_id serial PRIMARY KEY, tag_name varchar);\")\n",
    "    \n",
    "# m2m-таблица, соотносящая продукты и теги (описание продуктов)\n",
    "cursor.execute(\"\"\"create table items_tags (\n",
    "               item_id int references items (item_id), \n",
    "               tag_id int references tags (tag_id));\"\"\")"
   ]
  },
  {
   "cell_type": "code",
   "execution_count": 7,
   "metadata": {},
   "outputs": [],
   "source": [
    "connection.commit()\n",
    "connection.close()"
   ]
  },
  {
   "cell_type": "code",
   "execution_count": 12,
   "metadata": {},
   "outputs": [],
   "source": [
    "#connection.rollback()"
   ]
  },
  {
   "cell_type": "code",
   "execution_count": null,
   "metadata": {},
   "outputs": [],
   "source": []
  }
 ],
 "metadata": {
  "kernelspec": {
   "display_name": "Python 3",
   "language": "python",
   "name": "python3"
  },
  "language_info": {
   "codemirror_mode": {
    "name": "ipython",
    "version": 3
   },
   "file_extension": ".py",
   "mimetype": "text/x-python",
   "name": "python",
   "nbconvert_exporter": "python",
   "pygments_lexer": "ipython3",
   "version": "3.7.3"
  }
 },
 "nbformat": 4,
 "nbformat_minor": 2
}
