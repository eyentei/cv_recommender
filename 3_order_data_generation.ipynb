{
 "cells": [
  {
   "cell_type": "code",
   "execution_count": 1,
   "metadata": {},
   "outputs": [
    {
     "name": "stderr",
     "output_type": "stream",
     "text": [
      "Using TensorFlow backend.\n"
     ]
    }
   ],
   "source": [
    "import pandas as pd\n",
    "import numpy as np\n",
    "import cv2\n",
    "import psycopg2 as pg\n",
    "import dlib\n",
    "from tqdm import tqdm\n",
    "import glob\n",
    "from keras.models import load_model\n",
    "\n",
    "with open('credentials.txt') as creds:\n",
    "    db,user,host,port = creds.read().splitlines()\n",
    "connect = pg.connect(dbname=db, user=user, host=host, port=port)\n",
    "cursor = connect.cursor()"
   ]
  },
  {
   "cell_type": "code",
   "execution_count": 2,
   "metadata": {},
   "outputs": [],
   "source": [
    "cursor.execute('SELECT item_name FROM items')"
   ]
  },
  {
   "cell_type": "code",
   "execution_count": 3,
   "metadata": {},
   "outputs": [],
   "source": [
    "food_items = [tpl[0] for tpl in cursor.fetchall()] \n",
    "# названия блюд"
   ]
  },
  {
   "cell_type": "code",
   "execution_count": 4,
   "metadata": {},
   "outputs": [],
   "source": [
    "cursor.execute(\"\"\"\n",
    "SELECT t.tag_name, array_agg(i.item_name) FROM items_tags it, items i, tags t \n",
    "WHERE it.item_id = i.item_id AND it.tag_id = t.tag_id GROUP BY t.tag_name;\n",
    "\"\"\")"
   ]
  },
  {
   "cell_type": "code",
   "execution_count": 5,
   "metadata": {},
   "outputs": [
    {
     "name": "stdout",
     "output_type": "stream",
     "text": [
      "{'Sprite': ['Sprite'], 'Big Mac Sauce': ['Big Mac'], 'Main Dish': ['Chicken McNuggets', 'Artisan Grilled Chicken Sandwich', 'Big Mac', 'Buttermilk Crispy Chicken Sandwich', 'Buttermilk Crispy Tenders', 'Cheeseburger', 'Double Cheeseburger', 'Double Quarter Pounder with Cheese', 'Filet-O-Fish', 'Hamburger', 'McChicken', 'McDouble', 'Quarter Pounder with Cheese', 'Quarter Pounder with Cheese Deluxe'], 'Roll': ['Sausage Burrito'], 'Hotcakes': ['Big Breakfast with Hotcakes', 'Hotcakes', 'Hotcakes and Sausage'], 'Hotcake Syrup': ['Big Breakfast with Hotcakes', 'Hotcakes', 'Hotcakes and Sausage'], 'Butter': ['Bacon, Egg  & Cheese Biscuit', 'Bacon, Egg & Cheese Bagel', 'Bacon, Egg & Cheese McGriddles', 'Big Breakfast', 'Big Breakfast with Hotcakes', 'Big Breakfast with Hotcakes', 'Egg McMuffin', 'Hotcakes', 'Hotcakes and Sausage', 'Sausage Biscuit', 'Sausage Biscuit  with Egg', 'Sausage McGriddles', 'Sausage McMuffin', 'Sausage McMuffin with Egg', 'Sausage McMuffin with Egg', 'Sausage, Egg & Cheese McGriddles'], 'Cranberry Raisin Blend': ['Fruit & Maple Oatmeal'], 'Breakfast Sauce': ['Bacon, Egg & Cheese Bagel'], 'Snickerdoodle Cookie Pieces': ['Snickerdoodle McFlurry'], 'Peach': ['Minute Maid Sweet Peach Slushie'], 'Ice': ['Caramel Frappe', 'Iced Caramel Coffee', 'Iced Caramel Macchiato', 'Iced Caramel Mocha', 'Iced Coffee', 'Iced French Vanilla Coffee', 'Iced Latte', 'Iced Mocha', 'Iced Tea', 'Mango Pineapple Smoothie', 'Minute Maid Blue Raspberry Slushie', 'Minute Maid Fruit Punch Slushie', 'Minute Maid Sweet Peach Slushie', 'Mocha Frappe', 'Strawberry Banana Smoothie', 'Sweet Tea'], 'Bun': ['Artisan Grilled Chicken Sandwich', 'Big Mac', 'Buttermilk Crispy Chicken Sandwich', 'Cheeseburger', 'Double Cheeseburger', 'Double Quarter Pounder with Cheese', 'Filet-O-Fish', 'Hamburger', 'McChicken', 'McDouble', 'Quarter Pounder with Cheese', 'Quarter Pounder with Cheese Bacon'], 'Grill Seasoning': ['Artisan Grilled Chicken Sandwich', 'Bacon Ranch Grilled Chicken Salad', 'Double Quarter Pounder with Cheese', 'Quarter Pounder with Cheese', 'Quarter Pounder with Cheese Bacon', 'Southwest Grilled Chicken Salad'], 'Lettuce': ['Artisan Grilled Chicken Sandwich', 'Big Mac', 'Buttermilk Crispy Chicken Sandwich', 'McChicken'], 'Hot Beverage': ['Americano', 'Cappuccino', 'Caramel Cappuccino', 'Caramel Latte', 'Caramel Macchiato', 'Caramel Mocha', 'French Vanilla Cappuccino', 'French Vanilla Latte', 'Hot Chocolate', 'Latte', 'Mocha', 'Premium Roast Coffee'], 'Chili Lime Tortilla Strips': ['Southwest Buttermilk Crispy Chicken Salad', 'Southwest Grilled Chicken Salad'], 'Cilantro Lime Glaze': ['Southwest Buttermilk Crispy Chicken Salad', 'Southwest Grilled Chicken Salad'], 'Ice Cream': ['Chocolate Shake', 'Hot Caramel Sundae', 'Hot Fudge Sundae', \"McFlurry with M&M'S Candies\", 'McFlurry with OREO Cookies', 'Snickerdoodle McFlurry', 'Strawberry Shake', 'Strawberry Sundae', 'Vanilla Cone', 'Vanilla Shake'], 'Ketchup': ['Cheeseburger', 'Double Cheeseburger', 'Double Quarter Pounder with Cheese', 'Hamburger', 'McDouble', 'Quarter Pounder with Cheese', 'Quarter Pounder with Cheese Bacon'], 'Mango': ['Mango Pineapple Smoothie'], 'Fanta': ['Fanta Orange'], 'Griddle Cakes': ['Bacon, Egg & Cheese McGriddles', 'Sausage McGriddles', 'Sausage, Egg & Cheese McGriddles'], 'Tea': ['Iced Tea', 'Sweet Tea'], 'Coffee': ['Americano', 'Cappuccino', 'Caramel Cappuccino', 'Caramel Frappe', 'Caramel Latte', 'Caramel Macchiato', 'Caramel Mocha', 'French Vanilla Cappuccino', 'French Vanilla Latte', 'Iced Caramel Coffee', 'Iced Caramel Macchiato', 'Iced Caramel Mocha', 'Iced Coffee', 'Iced French Vanilla Coffee', 'Iced Latte', 'Iced Mocha', 'Latte', 'Mocha', 'Mocha Frappe', 'Premium Roast Coffee'], 'Pineapple': ['Mango Pineapple Smoothie'], 'Yogurt': [\"Fruit 'N Yogurt Parfait\", 'Mango Pineapple Smoothie', 'Strawberry Banana Smoothie', 'Yoplait GO-GURT Low Fat Strawberry Yogurt'], 'Pickle Slices': ['Big Mac', 'Cheeseburger', 'Double Cheeseburger', 'Double Quarter Pounder with Cheese', 'Hamburger', 'McDouble', 'Quarter Pounder with Cheese', 'Quarter Pounder with Cheese Bacon'], 'Espresso': ['Americano', 'Cappuccino', 'Caramel Cappuccino', 'Caramel Latte', 'Caramel Macchiato', 'Caramel Mocha', 'French Vanilla Cappuccino', 'French Vanilla Latte', 'Iced Caramel Macchiato', 'Iced Caramel Mocha', 'Iced Latte', 'Iced Mocha', 'Mocha'], 'Water': ['Americano', 'Cappuccino', 'Caramel Cappuccino', 'Caramel Latte', 'Caramel Macchiato', 'Caramel Mocha', 'DASANI Water', 'French Vanilla Cappuccino', 'French Vanilla Latte', 'Iced Caramel Macchiato', 'Iced Caramel Mocha', 'Iced Latte', 'Iced Mocha', 'Latte', 'Mocha'], 'Banana': ['Strawberry Banana Smoothie'], 'Orange': ['Minute Maid Premium Orange Juice'], 'Artificial Sweeteners': ['Diet Coke'], 'Breading': ['Chicken McNuggets', 'Bacon Ranch Salad with Buttermilk Crispy Chicken', 'Buttermilk Crispy Chicken Sandwich', 'Buttermilk Crispy Tenders', 'Southwest Buttermilk Crispy Chicken Salad'], 'Beef': ['Big Mac', 'Cheeseburger', 'Double Cheeseburger', 'Double Quarter Pounder with Cheese', 'Hamburger', 'McDouble', 'Quarter Pounder with Cheese', 'Quarter Pounder with Cheese Bacon'], 'Dr Pepper': ['Dr Pepper'], 'Mayonnaise': ['Artisan Grilled Chicken Sandwich', 'Buttermilk Crispy Chicken Sandwich', 'McChicken'], 'Vegetables': ['Sausage Burrito', 'Side Salad', 'Southwest Buttermilk Crispy Chicken Salad', 'Southwest Grilled Chicken Salad'], 'Coca-Cola': ['Coca-Cola', 'Diet Coke'], 'Raspberry': ['Minute Maid Blue Raspberry Slushie'], 'Egg': ['Bacon, Egg  & Cheese Biscuit', 'Bacon, Egg & Cheese Bagel', 'Bacon, Egg & Cheese McGriddles', 'Big Breakfast', 'Big Breakfast with Hotcakes', 'Egg McMuffin', 'Sausage Biscuit  with Egg', 'Sausage Burrito', 'Sausage McMuffin with Egg', 'Sausage, Egg & Cheese McGriddles'], 'Milk': ['1% Low Fat Milk Jug', 'Cappuccino', 'Caramel Cappuccino', 'Caramel Latte', 'Caramel Macchiato', 'Caramel Mocha', 'Fat Free Chocolate Milk Jug', 'French Vanilla Cappuccino', 'French Vanilla Latte', 'Hot Chocolate', 'Iced Caramel Macchiato', 'Iced Caramel Mocha', 'Iced Latte', 'Iced Mocha', 'Latte', 'Mocha'], 'Mustard': ['Cheeseburger', 'Double Cheeseburger', 'Double Quarter Pounder with Cheese', 'Hamburger', 'McDouble', 'Quarter Pounder with Cheese', 'Quarter Pounder with Cheese Bacon'], 'Blueberries': [\"Fruit 'N Yogurt Parfait\"], 'Oatmeal': ['Fruit & Maple Oatmeal'], 'Salad': ['Bacon Ranch Grilled Chicken Salad', 'Bacon Ranch Salad with Buttermilk Crispy Chicken', 'Side Salad', 'Southwest Buttermilk Crispy Chicken Salad', 'Southwest Grilled Chicken Salad'], 'Chicken': ['Chicken McNuggets', 'Artisan Grilled Chicken Sandwich', 'Bacon Ranch Grilled Chicken Salad', 'Bacon Ranch Salad with Buttermilk Crispy Chicken', 'Buttermilk Crispy Chicken Sandwich', 'Buttermilk Crispy Tenders', 'McChicken', 'Southwest Buttermilk Crispy Chicken Salad', 'Southwest Grilled Chicken Salad'], 'English Muffin': ['Egg McMuffin', 'Sausage McMuffin', 'Sausage McMuffin with Egg'], 'Apples': ['Apple Slices', 'Baked Apple Pie', 'Fruit & Maple Oatmeal', 'Honest Kids Appley Ever After Organic Juice Drink'], 'Tartar Sauce': ['Filet-O-Fish'], 'Grilled Chicken': ['Artisan Grilled Chicken Sandwich', 'Bacon Ranch Grilled Chicken Salad', 'Southwest Grilled Chicken Salad'], 'MnM': [\"McFlurry with M&M'S Candies\"], 'Strawberries': [\"Fruit 'N Yogurt Parfait\", 'Strawberry Banana Smoothie', 'Strawberry Shake', 'Strawberry Sundae', 'Yoplait GO-GURT Low Fat Strawberry Yogurt'], 'Granola': [\"Fruit 'N Yogurt Parfait\"], 'Fruit': ['Apple Slices', 'Baked Apple Pie', 'Fanta Orange', \"Fruit 'N Yogurt Parfait\", 'Fruit & Maple Oatmeal', 'Honest Kids Appley Ever After Organic Juice Drink', 'Mango Pineapple Smoothie', 'Minute Maid Blue Raspberry Slushie', 'Minute Maid Fruit Punch Slushie', 'Minute Maid Premium Orange Juice', 'Minute Maid Sweet Peach Slushie', 'Sprite', 'Strawberry Banana Smoothie', 'Strawberry Shake', 'Strawberry Sundae', 'Yoplait GO-GURT Low Fat Strawberry Yogurt'], 'Potatoes': ['Big Breakfast', 'Big Breakfast with Hotcakes', 'Hash Browns', 'World Famous Fries'], 'Burger': ['Artisan Grilled Chicken Sandwich', 'Bacon, Egg  & Cheese Biscuit', 'Bacon, Egg & Cheese Bagel', 'Bacon, Egg & Cheese McGriddles', 'Big Mac', 'Buttermilk Crispy Chicken Sandwich', 'Cheeseburger', 'Double Cheeseburger', 'Double Quarter Pounder with Cheese', 'Egg McMuffin', 'Filet-O-Fish', 'Hamburger', 'McChicken', 'McDouble', 'Quarter Pounder with Cheese', 'Quarter Pounder with Cheese Deluxe', 'Sausage Biscuit', 'Sausage Biscuit  with Egg', 'Sausage McGriddles', 'Sausage McMuffin', 'Sausage McMuffin with Egg', 'Sausage, Egg & Cheese McGriddles'], 'Fish': ['Filet-O-Fish'], 'Salad Blend': ['Bacon Ranch Grilled Chicken Salad', 'Bacon Ranch Salad with Buttermilk Crispy Chicken', 'Side Salad', 'Southwest Buttermilk Crispy Chicken Salad', 'Southwest Grilled Chicken Salad'], 'Snack': ['Apple Slices', \"Fruit 'N Yogurt Parfait\", 'Side Salad', 'World Famous Fries', 'Yoplait GO-GURT Low Fat Strawberry Yogurt'], 'Cheese': ['Bacon Ranch Grilled Chicken Salad', 'Bacon Ranch Salad with Buttermilk Crispy Chicken', 'Bacon, Egg  & Cheese Biscuit', 'Bacon, Egg & Cheese Bagel', 'Bacon, Egg & Cheese McGriddles', 'Big Mac', 'Cheeseburger', 'Double Cheeseburger', 'Double Quarter Pounder with Cheese', 'Egg McMuffin', 'Filet-O-Fish', 'McDouble', 'Quarter Pounder with Cheese', 'Quarter Pounder with Cheese Bacon', 'Sausage Burrito', 'Sausage McMuffin', 'Sausage McMuffin with Egg', 'Sausage, Egg & Cheese McGriddles', 'Southwest Buttermilk Crispy Chicken Salad', 'Southwest Grilled Chicken Salad'], 'Biscuit': ['Bacon, Egg  & Cheese Biscuit', 'Big Breakfast', 'Big Breakfast with Hotcakes', 'Sausage Biscuit', 'Sausage Biscuit  with Egg'], 'Sugar': ['Coca-Cola', 'Dr Pepper', 'Fanta Orange', 'Sprite', 'Sweet Tea'], 'Bagel': ['Bacon, Egg & Cheese Bagel'], 'Fruit Punch': ['Minute Maid Fruit Punch Slushie'], 'Chocolate': ['Caramel Mocha', 'Chocolate Chip Cookie', 'Chocolate Shake', 'Fat Free Chocolate Milk Jug', 'Hot Chocolate', 'Hot Fudge Sundae', 'Iced Caramel Mocha', 'Iced Mocha', 'Mocha', 'Mocha Frappe'], 'Dessert': ['Baked Apple Pie', 'Chocolate Chip Cookie', 'Chocolate Shake', 'Donut Sticks', \"Fruit 'N Yogurt Parfait\", 'Hot Caramel Sundae', 'Hot Fudge Sundae', 'Mango Pineapple Smoothie', \"McFlurry with M&M'S Candies\", 'McFlurry with OREO Cookies', 'Minute Maid Blue Raspberry Slushie', 'Minute Maid Fruit Punch Slushie', 'Minute Maid Sweet Peach Slushie', 'Snickerdoodle McFlurry', 'Strawberry Banana Smoothie', 'Strawberry Shake', 'Strawberry Sundae', 'Vanilla Cone', 'Vanilla Shake'], 'Bacon': ['Bacon Ranch Grilled Chicken Salad', 'Bacon Ranch Salad with Buttermilk Crispy Chicken', 'Bacon, Egg  & Cheese Biscuit', 'Bacon, Egg & Cheese Bagel', 'Bacon, Egg & Cheese McGriddles', 'Egg McMuffin', 'Quarter Pounder with Cheese Bacon'], 'Pastry': ['Baked Apple Pie', 'Chocolate Chip Cookie', 'Donut Sticks', 'Vanilla Cone'], 'Cold Beverage': ['1% Low Fat Milk Jug', 'Caramel Frappe', 'Chocolate Shake', 'Coca-Cola', 'DASANI Water', 'Diet Coke', 'Dr Pepper', 'Fanta Orange', 'Fat Free Chocolate Milk Jug', 'Honest Kids Appley Ever After Organic Juice Drink', 'Iced Caramel Coffee', 'Iced Caramel Macchiato', 'Iced Caramel Mocha', 'Iced Coffee', 'Iced French Vanilla Coffee', 'Iced Latte', 'Iced Mocha', 'Iced Tea', 'Mango Pineapple Smoothie', 'Minute Maid Blue Raspberry Slushie', 'Minute Maid Fruit Punch Slushie', 'Minute Maid Premium Orange Juice', 'Minute Maid Sweet Peach Slushie', 'Mocha Frappe', 'Sprite', 'Strawberry Banana Smoothie', 'Strawberry Shake', 'Sweet Tea', 'Vanilla Shake'], 'Onions': ['Big Mac', 'Cheeseburger', 'Double Cheeseburger', 'Double Quarter Pounder with Cheese', 'Hamburger', 'McDouble', 'Quarter Pounder with Cheese', 'Quarter Pounder with Cheese Bacon'], 'Oreo': ['McFlurry with OREO Cookies'], 'Pork': ['Big Breakfast', 'Big Breakfast with Hotcakes', 'Hotcakes and Sausage', 'Sausage Biscuit', 'Sausage Biscuit  with Egg', 'Sausage Burrito', 'Sausage McGriddles', 'Sausage McMuffin', 'Sausage McMuffin with Egg', 'Sausage, Egg & Cheese McGriddles'], 'Breakfast': ['Bacon, Egg  & Cheese Biscuit', 'Bacon, Egg & Cheese Bagel', 'Bacon, Egg & Cheese McGriddles', 'Big Breakfast', 'Big Breakfast with Hotcakes', 'Egg McMuffin', 'Fruit & Maple Oatmeal', 'Hash Browns', 'Hotcakes', 'Hotcakes and Sausage', 'Sausage Biscuit', 'Sausage Biscuit  with Egg', 'Sausage Burrito', 'Sausage McGriddles', 'Sausage McMuffin', 'Sausage McMuffin with Egg', 'Sausage, Egg & Cheese McGriddles'], 'Vanilla': ['French Vanilla Cappuccino', 'French Vanilla Latte', 'Iced French Vanilla Coffee', 'Vanilla Cone', 'Vanilla Shake'], 'Whipped Cream': ['Caramel Frappe', 'Caramel Mocha', 'Chocolate Shake', 'Hot Chocolate', 'Iced Caramel Mocha', 'Iced Mocha', 'Mocha', 'Mocha Frappe', 'Strawberry Shake', 'Vanilla Shake'], 'Caramel': ['Caramel Cappuccino', 'Caramel Frappe', 'Caramel Latte', 'Caramel Macchiato', 'Caramel Mocha', 'Hot Caramel Sundae', 'Iced Caramel Coffee', 'Iced Caramel Macchiato', 'Iced Caramel Mocha'], 'Cookie': ['Chocolate Chip Cookie', 'McFlurry with OREO Cookies', 'Snickerdoodle McFlurry'], 'Light Cream': ['Fruit & Maple Oatmeal', 'Iced Caramel Coffee', 'Iced Coffee', 'Iced French Vanilla Coffee'], 'Tomato': ['Artisan Grilled Chicken Sandwich', 'Bacon Ranch Grilled Chicken Salad', 'Bacon Ranch Salad with Buttermilk Crispy Chicken', 'Buttermilk Crispy Chicken Sandwich']}\n"
     ]
    }
   ],
   "source": [
    "menu = dict(cursor.fetchall())\n",
    "print(menu) # в каких блюдах встречается тот или иной ингредиент"
   ]
  },
  {
   "cell_type": "code",
   "execution_count": 6,
   "metadata": {},
   "outputs": [
    {
     "name": "stdout",
     "output_type": "stream",
     "text": [
      "WARNING:tensorflow:From /Users/eyentei/anaconda3/lib/python3.7/site-packages/keras/backend/tensorflow_backend.py:422: The name tf.global_variables is deprecated. Please use tf.compat.v1.global_variables instead.\n",
      "\n"
     ]
    }
   ],
   "source": [
    "genderList = ['Female','Male']\n",
    "detector = dlib.get_frontal_face_detector() # модель для поиска лица\n",
    "sp = dlib.shape_predictor('shape_predictor_5_face_landmarks.dat') # модель для поиска глаз и носа на фото\n",
    "facerec = dlib.face_recognition_model_v1( 'dlib_face_recognition_resnet_model_v1.dat') #\n",
    "model=load_model('model.h5') #модель пол/возраст\n",
    "age_list = [(0,17),(18,24),(25,34),(35,44),(45,54),(55,64),(65,100)]"
   ]
  },
  {
   "cell_type": "code",
   "execution_count": 7,
   "metadata": {},
   "outputs": [],
   "source": [
    "def process(path):\n",
    "    im=cv2.imread(path)\n",
    "    img = cv2.cvtColor(im, cv2.COLOR_BGR2RGB)\n",
    "    dets = detector(img)\n",
    "    if dets:\n",
    "        try:\n",
    "            shape = sp(img, dets[0])\n",
    "            descriptor = list(facerec.compute_face_descriptor(img, shape)) # по особым точкам лица составляем вектор\n",
    "            h,w,_=img.shape\n",
    "            cropped = img[max(0, dets[0].top()): min(dets[0].bottom(), h),\n",
    "                    max(0, dets[0].left()): min(dets[0].right(), w)].copy()\n",
    "            img = cv2.resize(cropped, (224, 224))\n",
    "            img = np.expand_dims(img/255,axis=0)\n",
    "            ages,genders,_ = model.predict(img)\n",
    "            age = np.dot(ages[0], list(range(101)))\n",
    "            gender = genders[0]\n",
    "            return descriptor, age, gender\n",
    "        except Exception as e:\n",
    "            print(e)\n",
    "            pass"
   ]
  },
  {
   "cell_type": "code",
   "execution_count": 34,
   "metadata": {},
   "outputs": [],
   "source": []
  },
  {
   "cell_type": "code",
   "execution_count": 9,
   "metadata": {},
   "outputs": [
    {
     "name": "stderr",
     "output_type": "stream",
     "text": [
      "100%|██████████| 5728/5728 [34:26<00:00,  4.68it/s]   \n"
     ]
    }
   ],
   "source": [
    "users = []\n",
    "path='lfw-deepfunneled/'\n",
    "people = glob.glob(path+'/*')\n",
    "people.sort(key=lambda x: x.lower())\n",
    "i=1\n",
    "\n",
    "for person in tqdm(people,total=len(people)):\n",
    "    \n",
    "    p_imgs = glob.glob(person+'/*') \n",
    "    genders=[]\n",
    "    ages=[]\n",
    "    descs=[]\n",
    "    for im in p_imgs:\n",
    "        res = process(im)\n",
    "        if res is not None:\n",
    "            desc,age,gender=res\n",
    "            descs.append(desc)\n",
    "            ages.append(age)\n",
    "            genders.append(gender)\n",
    "            \n",
    "    try:  \n",
    "        desc = list(np.mean(descs,axis=0)) \n",
    "        gender = np.argmax(np.mean(genders, axis=0))\n",
    "        age = int(np.round(np.mean(ages)))\n",
    "\n",
    "        for j,a in enumerate(age_list):\n",
    "            if a[0] <= age <= a[1]:\n",
    "                age = j+1\n",
    "                break\n",
    "        \n",
    "        users.append([i,gender,age,desc])\n",
    "        i+=1\n",
    "      \n",
    "    except Exception as e:\n",
    "        print(e)\n",
    "        pass\n",
    "    "
   ]
  },
  {
   "cell_type": "code",
   "execution_count": 48,
   "metadata": {},
   "outputs": [
    {
     "data": {
      "image/png": "[encoded data removed]",
      "text/plain": [
       "<Figure size 432x288 with 1 Axes>"
      ]
     },
     "metadata": {
      "needs_background": "light"
     },
     "output_type": "display_data"
    }
   ],
   "source": [
    "plt.hist(tages, density=True,bins=63) \n",
    "plt.show()"
   ]
  },
  {
   "cell_type": "code",
   "execution_count": 49,
   "metadata": {},
   "outputs": [
    {
     "data": {
      "image/png": "[encoded data removed]",
      "text/plain": [
       "<Figure size 432x288 with 1 Axes>"
      ]
     },
     "metadata": {
      "needs_background": "light"
     },
     "output_type": "display_data"
    }
   ],
   "source": [
    "plt.hist(tgenders, density=True,bins=3) \n",
    "plt.show()"
   ]
  },
  {
   "cell_type": "code",
   "execution_count": 10,
   "metadata": {},
   "outputs": [],
   "source": [
    "orders=[] \n",
    "orders_items=[] \n",
    "\n",
    "# сгенерируем 10000 заказов\n",
    "for i in range(1,10001):\n",
    "    if i<=len(users):\n",
    "        user = users[i-1]\n",
    "    else:\n",
    "        user = users[np.random.randint(len(users))]\n",
    "    user_id = user[0]\n",
    "    gender = user[1]\n",
    "    dishes = set()\n",
    "        \n",
    "    p = 0 #уменьшаем вероятность заказать основное блюдо на последующих итерациях\n",
    "    for j in range(3):\n",
    "        main_types = ['Breakfast', 'Beef', 'Chicken & Fish'] # категории главных блюд\n",
    "        is_main_picked = [main_types, None]\n",
    "        main_choice = np.random.choice(is_main_picked, p=[0.8-p, 0.2+p]) # будет ли в заказе главное блюдо?\n",
    "\n",
    "        if main_choice:\n",
    "            main_type = np.random.choice(main_types, p=[0.2, 0.60, 0.2]) # если да, то какое? \n",
    "\n",
    "            if main_type == 'Breakfast':\n",
    "                # вручную заданные вероятности заказа блюд по полу, далее так же\n",
    "                m = [0.08,0.07,0.07,0.15,0.1,0.05,0.05,0.02,0.02,0.02,0.05,0.05,0.07,0.04,0.05,0.06,0.05]\n",
    "                f = [0.05,0.05,0.05,0.05,0.05,0.08,0.22,0.1,0.08,0.05,0.04,0.03,0.02,0.04,0.04,0.03,0.02]\n",
    "                \n",
    "                if gender == 1:\n",
    "                    dishes.add(np.random.choice(menu['Breakfast'], p = m))\n",
    "                elif gender == 0:\n",
    "                    dishes.add(np.random.choice(menu['Breakfast'], p = f))\n",
    "                \n",
    "            elif main_type == 'Beef':\n",
    "                m = [0.25,0.05,0.1,0.15,0.05,0.13,0.12,0.15]\n",
    "                f = [0.05,0.2,0.15,0.1,0.2,0.1,0.1,0.1]\n",
    "\n",
    "                if gender == 1:\n",
    "                    dishes.add(np.random.choice(menu['Beef'], p = m))\n",
    "                elif gender == 0:\n",
    "                    dishes.add(np.random.choice(menu['Beef'], p = f))\n",
    "\n",
    "            elif main_type == 'Chicken & Fish':\n",
    "                prob=[0.2,0.1,0.04,0.04,0.1,0.2,0.2,0.04,0.04,0.04]\n",
    "                dishes.add(np.random.choice(menu['Chicken']+menu['Fish'],p=prob))\n",
    "        \n",
    "\n",
    "        side_types = ['Salad','Snack']\n",
    "        is_side_picked = [side_types, None]\n",
    "        side_choice = np.random.choice(is_side_picked, p=[0.6-p, 0.4+p]) # будет ли в заказе салат/картошка?\n",
    "\n",
    "        if side_choice:\n",
    "            # также для мужчин и женщин разные вероятности заказа того или иного блюда\n",
    "            if gender == 1:\n",
    "                side_type = np.random.choice(side_types, p=[0.15, 0.85]) \n",
    "\n",
    "            elif gender == 0:\n",
    "                side_type = np.random.choice(side_types, p=[0.35, 0.65])  \n",
    "\n",
    "            if side_type == 'Salad':\n",
    "                prob = [0.25,0.25,0,0.25,0.25]\n",
    "                dishes.add(np.random.choice(menu['Salad'],p=prob))\n",
    "\n",
    "            elif side_type == 'Snack':\n",
    "                prob=[0.025,0.025,0.025,0.9,0.025]\n",
    "                dishes.add(np.random.choice(menu['Snack'], p = prob))\n",
    "\n",
    "\n",
    "        dessert_types = ['Dessert']\n",
    "        is_dessert_picked = [dessert_types, None]\n",
    "        dessert_choice = np.random.choice(is_dessert_picked, p=[0.6-p, 0.4+p]) # будет ли в заказе десерт?\n",
    "        if dessert_choice:\n",
    "            m = [0.03,0.05,0.1,0.1,0.02,0.1,0.1,0.01,0.05,0.05,0.01,0.01,0.01,0.05,0.01,0.05,0.05,0.1,0.1]\n",
    "            f = [0.03,0.01,0.05,0.02,0.08,0.07,0.07,0.07,0.04,0.04,0.03,0.03,0.03,0.04,0.07,0.1,0.1,0.06,0.06]\n",
    "            if gender == 1:\n",
    "                dishes.add(np.random.choice(menu['Dessert'], p = m))\n",
    "            elif gender == 0:\n",
    "                dishes.add(np.random.choice(menu['Dessert'], p = f))\n",
    "\n",
    "\n",
    "        drink_types = ['Hot Beverage', 'Cold Beverage']\n",
    "        is_drink_picked = [drink_types, None]\n",
    "        drink_choice = np.random.choice(is_drink_picked, p=[0.9-p, 0.1+p])  # будет ли в заказе напиток?\n",
    "\n",
    "        if drink_choice:\n",
    "\n",
    "            drink_type = np.random.choice(drink_types, p=[0.5, 0.5])  \n",
    "\n",
    "            if drink_type == 'Hot Beverage':\n",
    "                 dishes.add(np.random.choice(menu['Hot Beverage']))\n",
    "\n",
    "            elif drink_type == 'Cold Beverage':\n",
    "                 dishes.add(np.random.choice(menu['Cold Beverage']))\n",
    "\n",
    "        \n",
    "    order = {'order_id':i,'user_id':user_id} # создаем заказ \n",
    "    orders.append(order)\n",
    "    \n",
    "    for d in dishes:\n",
    "        order_item = {'order_id':i, 'item_id':food_items.index(d)} # сопоставляем заказ и продукты\n",
    "        orders_items.append(order_item)\n",
    "            "
   ]
  },
  {
   "cell_type": "code",
   "execution_count": 11,
   "metadata": {},
   "outputs": [],
   "source": [
    "orders = pd.DataFrame(orders).fillna(0)"
   ]
  },
  {
   "cell_type": "code",
   "execution_count": 12,
   "metadata": {},
   "outputs": [],
   "source": [
    "orders_items = pd.DataFrame(orders_items).fillna(0)"
   ]
  },
  {
   "cell_type": "code",
   "execution_count": 13,
   "metadata": {},
   "outputs": [
    {
     "data": {
      "text/html": [
       "<div>\n",
       "<style scoped>\n",
       "    .dataframe tbody tr th:only-of-type {\n",
       "        vertical-align: middle;\n",
       "    }\n",
       "\n",
       "    .dataframe tbody tr th {\n",
       "        vertical-align: top;\n",
       "    }\n",
       "\n",
       "    .dataframe thead th {\n",
       "        text-align: right;\n",
       "    }\n",
       "</style>\n",
       "<table border=\"1\" class=\"dataframe\">\n",
       "  <thead>\n",
       "    <tr style=\"text-align: right;\">\n",
       "      <th></th>\n",
       "      <th>order_id</th>\n",
       "      <th>user_id</th>\n",
       "    </tr>\n",
       "  </thead>\n",
       "  <tbody>\n",
       "    <tr>\n",
       "      <th>0</th>\n",
       "      <td>1</td>\n",
       "      <td>1</td>\n",
       "    </tr>\n",
       "    <tr>\n",
       "      <th>1</th>\n",
       "      <td>2</td>\n",
       "      <td>2</td>\n",
       "    </tr>\n",
       "    <tr>\n",
       "      <th>2</th>\n",
       "      <td>3</td>\n",
       "      <td>3</td>\n",
       "    </tr>\n",
       "    <tr>\n",
       "      <th>3</th>\n",
       "      <td>4</td>\n",
       "      <td>4</td>\n",
       "    </tr>\n",
       "    <tr>\n",
       "      <th>4</th>\n",
       "      <td>5</td>\n",
       "      <td>5</td>\n",
       "    </tr>\n",
       "  </tbody>\n",
       "</table>\n",
       "</div>"
      ],
      "text/plain": [
       "   order_id  user_id\n",
       "0         1        1\n",
       "1         2        2\n",
       "2         3        3\n",
       "3         4        4\n",
       "4         5        5"
      ]
     },
     "execution_count": 13,
     "metadata": {},
     "output_type": "execute_result"
    }
   ],
   "source": [
    "orders.head()"
   ]
  },
  {
   "cell_type": "code",
   "execution_count": 14,
   "metadata": {},
   "outputs": [
    {
     "data": {
      "text/html": [
       "<div>\n",
       "<style scoped>\n",
       "    .dataframe tbody tr th:only-of-type {\n",
       "        vertical-align: middle;\n",
       "    }\n",
       "\n",
       "    .dataframe tbody tr th {\n",
       "        vertical-align: top;\n",
       "    }\n",
       "\n",
       "    .dataframe thead th {\n",
       "        text-align: right;\n",
       "    }\n",
       "</style>\n",
       "<table border=\"1\" class=\"dataframe\">\n",
       "  <thead>\n",
       "    <tr style=\"text-align: right;\">\n",
       "      <th></th>\n",
       "      <th>item_id</th>\n",
       "      <th>order_id</th>\n",
       "    </tr>\n",
       "  </thead>\n",
       "  <tbody>\n",
       "    <tr>\n",
       "      <th>0</th>\n",
       "      <td>66</td>\n",
       "      <td>1</td>\n",
       "    </tr>\n",
       "    <tr>\n",
       "      <th>1</th>\n",
       "      <td>90</td>\n",
       "      <td>1</td>\n",
       "    </tr>\n",
       "    <tr>\n",
       "      <th>2</th>\n",
       "      <td>40</td>\n",
       "      <td>1</td>\n",
       "    </tr>\n",
       "    <tr>\n",
       "      <th>3</th>\n",
       "      <td>1</td>\n",
       "      <td>1</td>\n",
       "    </tr>\n",
       "    <tr>\n",
       "      <th>4</th>\n",
       "      <td>86</td>\n",
       "      <td>1</td>\n",
       "    </tr>\n",
       "  </tbody>\n",
       "</table>\n",
       "</div>"
      ],
      "text/plain": [
       "   item_id  order_id\n",
       "0       66         1\n",
       "1       90         1\n",
       "2       40         1\n",
       "3        1         1\n",
       "4       86         1"
      ]
     },
     "execution_count": 14,
     "metadata": {},
     "output_type": "execute_result"
    }
   ],
   "source": [
    "orders_items.head()"
   ]
  },
  {
   "cell_type": "code",
   "execution_count": 15,
   "metadata": {},
   "outputs": [
    {
     "name": "stderr",
     "output_type": "stream",
     "text": [
      "100%|██████████| 5728/5728 [01:59<00:00, 50.71it/s]\n"
     ]
    }
   ],
   "source": [
    "# заполняем таблицу пользователей сгенерированными данными\n",
    "for user in tqdm(users,total=len(users)):\n",
    "    data = (bool(user[1]),int(user[2]),list(user[3]))\n",
    "    cursor.execute(\"INSERT INTO users(gender, age_group_id, vector) VALUES(%s,%s,cube(%s))\",data)\n",
    "connect.commit()"
   ]
  },
  {
   "cell_type": "code",
   "execution_count": 16,
   "metadata": {},
   "outputs": [
    {
     "name": "stderr",
     "output_type": "stream",
     "text": [
      "100%|██████████| 10000/10000 [03:11<00:00, 53.79it/s]\n"
     ]
    }
   ],
   "source": [
    "# заполняем таблицу заказов сгенерированными данными\n",
    "\n",
    "for _, order in tqdm(orders.iterrows(),total=len(orders)):  \n",
    "    data = (int(order.user_id),)\n",
    "    cursor.execute(\"INSERT INTO orders(user_id) VALUES(%s)\", data)\n",
    "connect.commit()"
   ]
  },
  {
   "cell_type": "code",
   "execution_count": 17,
   "metadata": {},
   "outputs": [
    {
     "name": "stderr",
     "output_type": "stream",
     "text": [
      "100%|██████████| 79440/79440 [26:03<00:00, 48.49it/s]  \n"
     ]
    }
   ],
   "source": [
    "for _,order in tqdm(orders_items.iterrows(),total=len(orders_items)):\n",
    "    data = (int(order.order_id), int(order.item_id+1))\n",
    "    cursor.execute(\"INSERT INTO orders_items(order_id, item_id) values (%s, %s)\", data)\n",
    "    \n",
    "connect.commit() "
   ]
  },
  {
   "cell_type": "code",
   "execution_count": 18,
   "metadata": {},
   "outputs": [],
   "source": [
    "connect.close()"
   ]
  },
  {
   "cell_type": "code",
   "execution_count": null,
   "metadata": {},
   "outputs": [],
   "source": []
  }
 ],
 "metadata": {
  "kernelspec": {
   "display_name": "Python 3",
   "language": "python",
   "name": "python3"
  },
  "language_info": {
   "codemirror_mode": {
    "name": "ipython",
    "version": 3
   },
   "file_extension": ".py",
   "mimetype": "text/x-python",
   "name": "python",
   "nbconvert_exporter": "python",
   "pygments_lexer": "ipython3",
   "version": "3.7.3"
  }
 },
 "nbformat": 4,
 "nbformat_minor": 2
}
